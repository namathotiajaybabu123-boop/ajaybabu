{
 "cells": [
  {
   "cell_type": "code",
   "execution_count": 1,
   "id": "7fc66b44-8c6a-47b2-bfc9-6bd3106ab463",
   "metadata": {},
   "outputs": [
    {
     "name": "stdin",
     "output_type": "stream",
     "text": [
      "enter name ajaybabu\n"
     ]
    },
    {
     "name": "stdout",
     "output_type": "stream",
     "text": [
      "my name is ajaybabu.\n"
     ]
    }
   ],
   "source": [
    "#print name by the user\n",
    "a= input(\"enter name\")\n",
    "print(f\"my name is {a}.\")"
   ]
  },
  {
   "cell_type": "code",
   "execution_count": 3,
   "id": "079e8e41-beeb-46fe-88a0-7c862c127858",
   "metadata": {},
   "outputs": [
    {
     "name": "stdout",
     "output_type": "stream",
     "text": [
      "ajay\n"
     ]
    }
   ],
   "source": [
    "name=\"ajay\"\n",
    "print(name)"
   ]
  },
  {
   "cell_type": "code",
   "execution_count": 4,
   "id": "99d8cb84-edfb-45f7-af92-942cd8eacf9c",
   "metadata": {},
   "outputs": [
    {
     "name": "stdin",
     "output_type": "stream",
     "text": [
      " 4\n",
      " 2\n"
     ]
    },
    {
     "name": "stdout",
     "output_type": "stream",
     "text": [
      "number1:,num1\n",
      "number1:,num1\n"
     ]
    }
   ],
   "source": [
    "#print of numbers\n",
    "num1=int(input())\n",
    "num2=int(input())\n",
    "print(\"number1:,num1\")\n",
    "print(\"number1:,num1\")"
   ]
  },
  {
   "cell_type": "code",
   "execution_count": 6,
   "id": "4fa10506-52a4-4e10-87ea-3d3fa32e80c6",
   "metadata": {},
   "outputs": [
    {
     "name": "stdin",
     "output_type": "stream",
     "text": [
      " 4\n",
      " 2\n"
     ]
    },
    {
     "name": "stdout",
     "output_type": "stream",
     "text": [
      "6\n"
     ]
    }
   ],
   "source": [
    "#addition of two numbers\n",
    "num1=int(input())\n",
    "num2=int(input())\n",
    "print(num1+num2)"
   ]
  },
  {
   "cell_type": "code",
   "execution_count": 10,
   "id": "abe75c99-7e5c-43bf-9df4-e1e6a01ed17e",
   "metadata": {},
   "outputs": [
    {
     "name": "stdin",
     "output_type": "stream",
     "text": [
      " ajay\n",
      " babu\n"
     ]
    },
    {
     "name": "stdout",
     "output_type": "stream",
     "text": [
      "ajay babu\n"
     ]
    }
   ],
   "source": [
    "#concatenate of words\n",
    "word1=input()\n",
    "word2=input()\n",
    "concatenate=word1+\" \"+word2\n",
    "print(concatenate)"
   ]
  },
  {
   "cell_type": "code",
   "execution_count": 14,
   "id": "0612638e-bcd3-4b20-ae20-b09dbbe0c326",
   "metadata": {},
   "outputs": [
    {
     "name": "stdin",
     "output_type": "stream",
     "text": [
      " 42\n",
      " 43\n"
     ]
    },
    {
     "name": "stdout",
     "output_type": "stream",
     "text": [
      "43\n",
      "42\n"
     ]
    }
   ],
   "source": [
    "#swapping of numbers\n",
    "a=int(input())\n",
    "b=int(input())\n",
    "a=a+b\n",
    "b=a-b\n",
    "a=a-b\n",
    "print(a)\n",
    "print(b)"
   ]
  },
  {
   "cell_type": "code",
   "execution_count": 15,
   "id": "27f57c2d-450c-4f5f-9823-aaaed6aebac7",
   "metadata": {},
   "outputs": [
    {
     "name": "stdout",
     "output_type": "stream",
     "text": [
      "<class 'int'>\n",
      "<class 'str'>\n",
      "<class 'float'>\n"
     ]
    }
   ],
   "source": [
    " # write primitive data type \n",
    "a=10\n",
    "b=\"hello\"\n",
    "c=2.43\n",
    "print(type(a))\n",
    "print(type(b))\n",
    "print(type(c))"
   ]
  },
  {
   "cell_type": "code",
   "execution_count": 16,
   "id": "b713111a-a4cb-4874-88f7-bab157804cbc",
   "metadata": {},
   "outputs": [
    {
     "name": "stdin",
     "output_type": "stream",
     "text": [
      "  12\n",
      "  22\n"
     ]
    },
    {
     "name": "stdout",
     "output_type": "stream",
     "text": [
      "after swapping: 22\n",
      "after swapping: 12\n"
     ]
    }
   ],
   "source": [
    "#swap 2no's using 3rd variable\n",
    "a=int(input(\" \"))\n",
    "b=int(input(\" \"))\n",
    "temp=a\n",
    "a=b\n",
    "b=temp\n",
    "print(\"after swapping:\",a)\n",
    "print(\"after swapping:\",b)"
   ]
  },
  {
   "cell_type": "code",
   "execution_count": 18,
   "id": "69ef85ce-4ace-4a23-b2ab-52bc22c049d6",
   "metadata": {},
   "outputs": [
    {
     "name": "stdout",
     "output_type": "stream",
     "text": [
      "<class 'list'>\n",
      "<class 'dict'>\n",
      "<class 'set'>\n"
     ]
    }
   ],
   "source": [
    "# non  print primitive date type\n",
    "x=[4,5,6]\n",
    "dict_={name:\"ajay\"}\n",
    "z={2,3,43,66,78,9}\n",
    "print(type(x))\n",
    "print(type(dict_))\n",
    "print(type(z))"
   ]
  },
  {
   "cell_type": "code",
   "execution_count": 19,
   "id": "6ad0ef77-52e7-42c2-aa59-c3a8b3905ed7",
   "metadata": {},
   "outputs": [
    {
     "name": "stdin",
     "output_type": "stream",
     "text": [
      " 42\n"
     ]
    },
    {
     "name": "stdout",
     "output_type": "stream",
     "text": [
      "1764\n"
     ]
    }
   ],
   "source": [
    "#square\n",
    "a=int(input())\n",
    "print(a**2)"
   ]
  },
  {
   "cell_type": "code",
   "execution_count": 20,
   "id": "f501ae4e-7f28-438f-8848-a232c91d5154",
   "metadata": {},
   "outputs": [
    {
     "name": "stdin",
     "output_type": "stream",
     "text": [
      " 2\n",
      " 5\n",
      " 8\n"
     ]
    },
    {
     "name": "stdout",
     "output_type": "stream",
     "text": [
      "5.0\n"
     ]
    }
   ],
   "source": [
    "#avg of three number\n",
    "a=int(input())\n",
    "b=int(input())\n",
    "c=int(input())\n",
    "sum=a+b+c\n",
    "print(sum/3)"
   ]
  },
  {
   "cell_type": "code",
   "execution_count": 21,
   "id": "888067c8-dc22-4b2a-833d-cc48360f4167",
   "metadata": {},
   "outputs": [
    {
     "name": "stdin",
     "output_type": "stream",
     "text": [
      " 42\n"
     ]
    },
    {
     "name": "stdout",
     "output_type": "stream",
     "text": [
      "420\n"
     ]
    }
   ],
   "source": [
    "#multiple\n",
    "num1=int(input())\n",
    "print(num1*10)"
   ]
  },
  {
   "cell_type": "code",
   "execution_count": 22,
   "id": "98fa5673-c645-4ca7-8720-af8c5d1e4e52",
   "metadata": {},
   "outputs": [
    {
     "name": "stdin",
     "output_type": "stream",
     "text": [
      " 42\n"
     ]
    },
    {
     "name": "stdout",
     "output_type": "stream",
     "text": [
      "0.7\n"
     ]
    }
   ],
   "source": [
    "#miltiple into seconds\n",
    "a=int(input())\n",
    "print(a/60)"
   ]
  },
  {
   "cell_type": "code",
   "execution_count": 23,
   "id": "ec5ed21e-ad99-499d-9058-096bf99588a3",
   "metadata": {},
   "outputs": [
    {
     "name": "stdin",
     "output_type": "stream",
     "text": [
      " 7.8\n",
      " 9.8\n"
     ]
    },
    {
     "name": "stdout",
     "output_type": "stream",
     "text": [
      "76.44\n"
     ]
    }
   ],
   "source": [
    "#miltiple of float\n",
    "a=float(input())\n",
    "b=float(input())\n",
    "print(a*b)"
   ]
  },
  {
   "cell_type": "code",
   "execution_count": 25,
   "id": "3a2cb411-df2a-4703-9e1f-2224e68d44d1",
   "metadata": {},
   "outputs": [
    {
     "name": "stdin",
     "output_type": "stream",
     "text": [
      " 4\n",
      " 2\n",
      " 42\n"
     ]
    },
    {
     "name": "stdout",
     "output_type": "stream",
     "text": [
      "42\n"
     ]
    }
   ],
   "source": [
    "#large number\n",
    "a=int(input())\n",
    "b=int(input())\n",
    "c=int(input())\n",
    "print(max(a,b,c))"
   ]
  },
  {
   "cell_type": "code",
   "execution_count": 26,
   "id": "09201e8d-018e-4b56-b390-3f5f99245188",
   "metadata": {},
   "outputs": [
    {
     "name": "stdin",
     "output_type": "stream",
     "text": [
      " 4\n"
     ]
    },
    {
     "name": "stdout",
     "output_type": "stream",
     "text": [
      "20\n"
     ]
    }
   ],
   "source": [
    "a=int(input())\n",
    "print(a*(a+1))"
   ]
  },
  {
   "cell_type": "code",
   "execution_count": 29,
   "id": "ac498ee4-16ef-4119-8bf6-046826caea95",
   "metadata": {},
   "outputs": [
    {
     "name": "stdin",
     "output_type": "stream",
     "text": [
      " 4\n"
     ]
    },
    {
     "name": "stdout",
     "output_type": "stream",
     "text": [
      "2\n",
      "4\n"
     ]
    }
   ],
   "source": [
    "a=int(input())\n",
    "for i in range(2,a+1):\n",
    "    if i%2==0:\n",
    "        print(i)"
   ]
  },
  {
   "cell_type": "code",
   "execution_count": 30,
   "id": "da94e13e-38c9-48c2-b280-bf624280b91f",
   "metadata": {},
   "outputs": [
    {
     "name": "stdin",
     "output_type": "stream",
     "text": [
      " true\n",
      " true\n",
      " 900\n"
     ]
    },
    {
     "name": "stdout",
     "output_type": "stream",
     "text": [
      "loan approved\n"
     ]
    }
   ],
   "source": [
    "pan=bool(input())\n",
    "adhar=bool(input())\n",
    "cibil=int(input())\n",
    "if (pan and adhar and cibil>750):\n",
    "    print(\"loan approved\")\n",
    "else:\n",
    "    print(\"rejrcted\")"
   ]
  },
  {
   "cell_type": "code",
   "execution_count": 31,
   "id": "abbacf97-0686-4399-8b6f-4ce421771fb5",
   "metadata": {},
   "outputs": [
    {
     "name": "stdin",
     "output_type": "stream",
     "text": [
      " 4\n",
      " 2\n"
     ]
    },
    {
     "name": "stdout",
     "output_type": "stream",
     "text": [
      "6\n",
      "2\n",
      "2\n"
     ]
    }
   ],
   "source": [
    "a=int(input())\n",
    "b=int(input())\n",
    "print(a+b)\n",
    "print(a-b)\n",
    "print(a//b)"
   ]
  },
  {
   "cell_type": "code",
   "execution_count": 32,
   "id": "0c570f08-68dd-4b12-8fcd-d3e41ae7a84b",
   "metadata": {},
   "outputs": [
    {
     "name": "stdin",
     "output_type": "stream",
     "text": [
      " 5\n",
      " 1\n"
     ]
    },
    {
     "name": "stdout",
     "output_type": "stream",
     "text": [
      "False\n",
      "False\n",
      "True\n"
     ]
    }
   ],
   "source": [
    "a=int(input())\n",
    "b=int(input())\n",
    "print(a>10 and b<5)\n",
    "print(a==10 and b<5)\n",
    "print(not(a==10))"
   ]
  },
  {
   "cell_type": "code",
   "execution_count": 33,
   "id": "bb04e2e1-a1e4-4d94-83bb-fdc0053bab0f",
   "metadata": {},
   "outputs": [
    {
     "name": "stdin",
     "output_type": "stream",
     "text": [
      " 5\n"
     ]
    },
    {
     "name": "stdout",
     "output_type": "stream",
     "text": [
      "positive\n"
     ]
    }
   ],
   "source": [
    "a=int(input())\n",
    "if a>0:\n",
    "    print(\"positive\")\n",
    "elif a<0:\n",
    "    print(\"negative\")\n",
    "else:\n",
    "    print(\"zero\")"
   ]
  },
  {
   "cell_type": "code",
   "execution_count": 34,
   "id": "f63d8da5-c60a-43e7-b006-d451a05f9c6f",
   "metadata": {},
   "outputs": [
    {
     "name": "stdin",
     "output_type": "stream",
     "text": [
      " 8\n"
     ]
    },
    {
     "name": "stdout",
     "output_type": "stream",
     "text": [
      "even\n"
     ]
    }
   ],
   "source": [
    "a= int(input())\n",
    "if a%2==0:\n",
    "    print(\"even\")\n",
    "else:\n",
    "    print(\"odd\")"
   ]
  },
  {
   "cell_type": "code",
   "execution_count": 35,
   "id": "6a589a47-f1bb-4920-83fb-eeba748945b5",
   "metadata": {},
   "outputs": [
    {
     "name": "stdin",
     "output_type": "stream",
     "text": [
      " 95\n"
     ]
    },
    {
     "name": "stdout",
     "output_type": "stream",
     "text": [
      "divisible\n"
     ]
    }
   ],
   "source": [
    "a=int(input())\n",
    "if a%5==0 or a%11==0:\n",
    "    print(\"divisible\")\n",
    "else:\n",
    "     print(\" not divisible\")"
   ]
  },
  {
   "cell_type": "code",
   "execution_count": 38,
   "id": "1d75d6e9-09e5-40df-93a0-f18508218690",
   "metadata": {},
   "outputs": [
    {
     "name": "stdin",
     "output_type": "stream",
     "text": [
      " theory marks: 22\n",
      "practical marks: 55\n"
     ]
    },
    {
     "name": "stdout",
     "output_type": "stream",
     "text": [
      "passed\n"
     ]
    }
   ],
   "source": [
    "theory=float(input(\" theory marks:\"))\n",
    "practical=float(input(\"practical marks:\"))\n",
    "if(theory>=35 and pratical>=15) or (theory+practical>60):\n",
    "                print(\"passed\")\n",
    "else:\n",
    "                 print(\"failed\")"
   ]
  },
  {
   "cell_type": "code",
   "execution_count": 39,
   "id": "7e75ce81-f884-43c6-adc3-4a67c7df5881",
   "metadata": {},
   "outputs": [
    {
     "name": "stdin",
     "output_type": "stream",
     "text": [
      "enter your age: 23\n"
     ]
    },
    {
     "name": "stdout",
     "output_type": "stream",
     "text": [
      "adult\n"
     ]
    }
   ],
   "source": [
    "age=int(input(\"enter your age:\"))\n",
    "if(age<13):\n",
    "    print(\"child\")\n",
    "elif(age>=13 and age<19)    :\n",
    "    print(\"teenage\")\n",
    "\n",
    "else:\n",
    "    print(\"adult\")"
   ]
  },
  {
   "cell_type": "code",
   "execution_count": 42,
   "id": "74fc307a-1c6b-4ef7-9428-8939251b7893",
   "metadata": {},
   "outputs": [
    {
     "name": "stdin",
     "output_type": "stream",
     "text": [
      "enter your marks: 98\n"
     ]
    },
    {
     "name": "stdout",
     "output_type": "stream",
     "text": [
      "A\n"
     ]
    }
   ],
   "source": [
    "marks=int(input(\"enter your marks:\"))\n",
    "if(marks>=90):\n",
    "    print(\"A\")\n",
    "elif(marks<90 and marks>=70):\n",
    "    print(\"B\")\n",
    "elif(marks<70 and marks>=50):\n",
    "    print(\"C\")\n",
    "elif(marks<50 and marks>=40):\n",
    "    print(\"D\")\n",
    "else:\n",
    "    print(\"fail\")"
   ]
  },
  {
   "cell_type": "code",
   "execution_count": 44,
   "id": "b4f8a381-694f-46c5-bf3a-aa613a3124c0",
   "metadata": {},
   "outputs": [
    {
     "name": "stdin",
     "output_type": "stream",
     "text": [
      "enter your number(1-7): 8\n"
     ]
    },
    {
     "name": "stdout",
     "output_type": "stream",
     "text": [
      "invalid number\n"
     ]
    }
   ],
   "source": [
    "day=int(input(\"enter your number(1-7):\"))\n",
    "if day==1:\n",
    "    print(\"sunday\")\n",
    "elif day==2:\n",
    "    print(\"monday\")    \n",
    "elif day==3:\n",
    "    print(\"tuesday\") \n",
    "elif day==4:\n",
    "    print(\"wednesday\") \n",
    "elif day==5:\n",
    "    print(\"friday\") \n",
    "elif day==6:\n",
    "    print(\"saturday\") \n",
    "else:\n",
    "    print(\"invalid number\")"
   ]
  },
  {
   "cell_type": "code",
   "execution_count": 46,
   "id": "6990c0a6-516a-45e8-875f-4caac39f0ce8",
   "metadata": {},
   "outputs": [
    {
     "name": "stdin",
     "output_type": "stream",
     "text": [
      " ajay\n"
     ]
    },
    {
     "name": "stdout",
     "output_type": "stream",
     "text": [
      "correct password\n"
     ]
    },
    {
     "name": "stdin",
     "output_type": "stream",
     "text": [
      " 1234\n"
     ]
    },
    {
     "name": "stdout",
     "output_type": "stream",
     "text": [
      "correct password\n",
      "login successfully\n"
     ]
    }
   ],
   "source": [
    "user=\"ajay\"\n",
    "password=1234\n",
    "username=input()\n",
    "if username==user:\n",
    "    print(\"correct password\")\n",
    "    psd=int(input())\n",
    "    if psd== password:\n",
    "        print(\"correct password\")\n",
    "        print(\"login successfully\")\n",
    "    else:\n",
    "        print(\"invalid password\")\n",
    "        psd=int(input())\n",
    "        if psd==password:\n",
    "            print(\"correct password\")\n",
    "            print(\"login successfully\")"
   ]
  },
  {
   "cell_type": "code",
   "execution_count": null,
   "id": "2b741686-983c-40b1-945e-4ec35bfb8a33",
   "metadata": {},
   "outputs": [],
   "source": []
  }
 ],
 "metadata": {
  "kernelspec": {
   "display_name": "Python 3 (ipykernel)",
   "language": "python",
   "name": "python3"
  },
  "language_info": {
   "codemirror_mode": {
    "name": "ipython",
    "version": 3
   },
   "file_extension": ".py",
   "mimetype": "text/x-python",
   "name": "python",
   "nbconvert_exporter": "python",
   "pygments_lexer": "ipython3",
   "version": "3.12.4"
  }
 },
 "nbformat": 4,
 "nbformat_minor": 5
}
